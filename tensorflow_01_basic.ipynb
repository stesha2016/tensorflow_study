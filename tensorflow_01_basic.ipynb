{
 "cells": [
  {
   "cell_type": "code",
   "execution_count": 1,
   "metadata": {},
   "outputs": [
    {
     "name": "stderr",
     "output_type": "stream",
     "text": [
      "/home/ubuntu/.local/lib/python3.5/site-packages/h5py/__init__.py:36: FutureWarning: Conversion of the second argument of issubdtype from `float` to `np.floating` is deprecated. In future, it will be treated as `np.float64 == np.dtype(float).type`.\n",
      "  from ._conv import register_converters as _register_converters\n"
     ]
    },
    {
     "name": "stdout",
     "output_type": "stream",
     "text": [
      "1.4.0\n"
     ]
    }
   ],
   "source": [
    "import tensorflow as tf\n",
    "print(tf.__version__)"
   ]
  },
  {
   "cell_type": "code",
   "execution_count": 4,
   "metadata": {},
   "outputs": [
    {
     "name": "stdout",
     "output_type": "stream",
     "text": [
      "<tf.Variable 'w1_1:0' shape=() dtype=float32_ref>\n",
      "<tf.Variable 'w2_1:0' shape=(1,) dtype=float32_ref>\n",
      "<tf.Variable 'Variable:0' shape=(2, 1) dtype=float32_ref>\n"
     ]
    }
   ],
   "source": [
    "v1 = tf.Variable(0.1, dtype=tf.float32, name='w1', trainable=False)\n",
    "v2 = tf.Variable([0.1], dtype=tf.float32, name='w1')\n",
    "v3 = tf.Variable([[0.1], [0.3]], dtype=tf.float32)\n",
    "print(v1)\n",
    "print(v2)\n",
    "print(v3)"
   ]
  },
  {
   "cell_type": "code",
   "execution_count": 6,
   "metadata": {},
   "outputs": [],
   "source": [
    "init = tf.global_variables_initializer()\n",
    "sess = tf.Session()\n",
    "sess.run(init)"
   ]
  },
  {
   "cell_type": "code",
   "execution_count": 7,
   "metadata": {},
   "outputs": [
    {
     "name": "stdout",
     "output_type": "stream",
     "text": [
      "v1 0.1\n",
      "v2 [0.1]\n",
      "v3 [[0.1]\n",
      " [0.3]]\n"
     ]
    }
   ],
   "source": [
    "print('v1', sess.run(v1))\n",
    "print('v2', sess.run(v2))\n",
    "print('v3', sess.run(v3))"
   ]
  },
  {
   "cell_type": "code",
   "execution_count": 8,
   "metadata": {},
   "outputs": [
    {
     "name": "stdout",
     "output_type": "stream",
     "text": [
      "c1 Tensor(\"Const:0\", shape=(), dtype=float32)\n",
      "c2 Tensor(\"Const_1:0\", shape=(2,), dtype=float32)\n"
     ]
    }
   ],
   "source": [
    "c1 = tf.constant(0.1, dtype=tf.float32)\n",
    "c2 = tf.constant([0.1, 0.2], dtype=tf.float32)\n",
    "print('c1', c1)\n",
    "print('c2', c2)"
   ]
  },
  {
   "cell_type": "code",
   "execution_count": 9,
   "metadata": {},
   "outputs": [
    {
     "name": "stdout",
     "output_type": "stream",
     "text": [
      "c1 0.1\n",
      "c2 [0.1 0.2]\n"
     ]
    }
   ],
   "source": [
    "sess.run(init)\n",
    "print('c1', sess.run(c1))\n",
    "print('c2', sess.run(c2))"
   ]
  },
  {
   "cell_type": "code",
   "execution_count": 10,
   "metadata": {},
   "outputs": [
    {
     "name": "stdout",
     "output_type": "stream",
     "text": [
      "w1 <tf.Variable 'w1_2:0' shape=(3, 4) dtype=float32_ref>\n",
      "b1 <tf.Variable 'b1:0' shape=(1, 3) dtype=float32_ref>\n"
     ]
    }
   ],
   "source": [
    "w1 = tf.get_variable(name='w1', shape=[3, 4], initializer=tf.truncated_normal_initializer())\n",
    "b1 = tf.get_variable('b1', [1, 3])\n",
    "print('w1', w1)\n",
    "print('b1', b1)"
   ]
  },
  {
   "cell_type": "code",
   "execution_count": 16,
   "metadata": {},
   "outputs": [
    {
     "name": "stdout",
     "output_type": "stream",
     "text": [
      "h_sum 0.0\n",
      "h_vec [1. 2. 3. 4.]\n",
      "round 0: h_vec[0] = 1.0, h_sum =1.0\n",
      "round 1: h_vec[1] = 2.0, h_sum =3.0\n",
      "round 2: h_vec[2] = 3.0, h_sum =6.0\n",
      "round 3: h_vec[3] = 4.0, h_sum =10.0\n",
      "the mean is 2.5\n"
     ]
    }
   ],
   "source": [
    "h_sum = tf.Variable(0.0, dtype=tf.float32)\n",
    "h_vec = tf.constant([1.0, 2.0, 3.0, 4.0])\n",
    "\n",
    "h_add = tf.placeholder(tf.float32)\n",
    "h_new = tf.add(h_sum, h_add)\n",
    "update = tf.assign(h_sum, h_new)\n",
    "\n",
    "sess.run(tf.global_variables_initializer())\n",
    "print('h_sum', sess.run(h_sum))\n",
    "print('h_vec', sess.run(h_vec))\n",
    "\n",
    "for i in range(4):\n",
    "    sess.run(update, feed_dict={h_add: sess.run(h_vec[i])})\n",
    "    print('round {}: h_vec[{}] = {}, h_sum ={}'.format(i, i, sess.run(h_vec[i]), sess.run(h_sum)))\n",
    "    \n",
    "print('the mean is {}'.format(sess.run(h_sum / 4)))"
   ]
  },
  {
   "cell_type": "code",
   "execution_count": null,
   "metadata": {},
   "outputs": [],
   "source": [
    "input1 = tf.placeholder(tf.float32)\n",
    "input2 = tf.placeholder(tf.float32)\n",
    "output = tf.multiply(input1, input2)\n",
    "print('input1', input1)\n",
    "print('input2', input2)\n",
    "print('output', output)\n",
    "\n",
    "_output = sess.run([output], feed_dict={input1:[7.0], input2:[2.0]})\n",
    "print('_output', _output)\n",
    "_output = sess.run([output], feed_dict={input1:[1.0], input2:[2.0]})\n",
    "print('_output', _output)"
   ]
  }
 ],
 "metadata": {
  "kernelspec": {
   "display_name": "Python 3",
   "language": "python",
   "name": "python3"
  },
  "language_info": {
   "codemirror_mode": {
    "name": "ipython",
    "version": 3
   },
   "file_extension": ".py",
   "mimetype": "text/x-python",
   "name": "python",
   "nbconvert_exporter": "python",
   "pygments_lexer": "ipython3",
   "version": "3.5.2"
  }
 },
 "nbformat": 4,
 "nbformat_minor": 2
}
