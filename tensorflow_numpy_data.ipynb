{
 "cells": [
  {
   "cell_type": "code",
   "execution_count": 1,
   "metadata": {},
   "outputs": [
    {
     "name": "stdout",
     "output_type": "stream",
     "text": [
      "[[0 1]\n",
      " [2 3]\n",
      " [4 5]\n",
      " [6 7]\n",
      " [8 9]]\n",
      "[[0]\n",
      " [1]\n",
      " [2]\n",
      " [3]\n",
      " [4]]\n"
     ]
    }
   ],
   "source": [
    "import warnings\n",
    "warnings.filterwarnings('ignore')\n",
    "\n",
    "import tensorflow as tf\n",
    "config = tf.ConfigProto()\n",
    "config.gpu_options.allow_growth = True\n",
    "sess = tf.Session(config=config)\n",
    "\n",
    "import numpy as np\n",
    "\n",
    "X = np.arange(20).reshape([10, 2])\n",
    "y = np.arange(10).reshape([10, 1])\n",
    "print(X[:5])\n",
    "print(y[:5])"
   ]
  },
  {
   "cell_type": "code",
   "execution_count": 4,
   "metadata": {},
   "outputs": [
    {
     "name": "stdout",
     "output_type": "stream",
     "text": [
      "<TensorSliceDataset shapes: ((2,), (1,)), types: (tf.int64, tf.int64)>\n"
     ]
    }
   ],
   "source": [
    "dataset = tf.data.Dataset.from_tensor_slices((X, y))\n",
    "print(dataset)"
   ]
  },
  {
   "cell_type": "code",
   "execution_count": 6,
   "metadata": {},
   "outputs": [
    {
     "name": "stdout",
     "output_type": "stream",
     "text": [
      "<tensorflow.python.data.ops.iterator_ops.Iterator object at 0x7f62353835c0>\n"
     ]
    }
   ],
   "source": [
    "iterator = dataset.make_one_shot_iterator()\n",
    "print(iterator)"
   ]
  },
  {
   "cell_type": "code",
   "execution_count": 8,
   "metadata": {},
   "outputs": [
    {
     "name": "stdout",
     "output_type": "stream",
     "text": [
      "count = 0 : y = [0]\n",
      "count = 1 : y = [1]\n",
      "count = 2 : y = [2]\n",
      "count = 3 : y = [3]\n",
      "count = 4 : y = [4]\n",
      "count = 5 : y = [5]\n",
      "count = 6 : y = [6]\n",
      "count = 7 : y = [7]\n",
      "count = 8 : y = [8]\n",
      "count = 9 : y = [9]\n",
      "\n",
      " End of sequence\n",
      "\t [[Node: IteratorGetNext_10 = IteratorGetNext[output_shapes=[[2], [1]], output_types=[DT_INT64, DT_INT64], _device=\"/job:localhost/replica:0/task:0/device:CPU:0\"](OneShotIterator)]]\n",
      "\n",
      "Caused by op 'IteratorGetNext_10', defined at:\n",
      "  File \"/usr/lib/python3.5/runpy.py\", line 184, in _run_module_as_main\n",
      "    \"__main__\", mod_spec)\n",
      "  File \"/usr/lib/python3.5/runpy.py\", line 85, in _run_code\n",
      "    exec(code, run_globals)\n",
      "  File \"/usr/local/lib/python3.5/dist-packages/ipykernel_launcher.py\", line 16, in <module>\n",
      "    app.launch_new_instance()\n",
      "  File \"/usr/local/lib/python3.5/dist-packages/traitlets/config/application.py\", line 658, in launch_instance\n",
      "    app.start()\n",
      "  File \"/usr/local/lib/python3.5/dist-packages/ipykernel/kernelapp.py\", line 486, in start\n",
      "    self.io_loop.start()\n",
      "  File \"/usr/local/lib/python3.5/dist-packages/tornado/platform/asyncio.py\", line 112, in start\n",
      "    self.asyncio_loop.run_forever()\n",
      "  File \"/usr/lib/python3.5/asyncio/base_events.py\", line 345, in run_forever\n",
      "    self._run_once()\n",
      "  File \"/usr/lib/python3.5/asyncio/base_events.py\", line 1312, in _run_once\n",
      "    handle._run()\n",
      "  File \"/usr/lib/python3.5/asyncio/events.py\", line 125, in _run\n",
      "    self._callback(*self._args)\n",
      "  File \"/usr/local/lib/python3.5/dist-packages/tornado/platform/asyncio.py\", line 102, in _handle_events\n",
      "    handler_func(fileobj, events)\n",
      "  File \"/usr/local/lib/python3.5/dist-packages/tornado/stack_context.py\", line 276, in null_wrapper\n",
      "    return fn(*args, **kwargs)\n",
      "  File \"/usr/local/lib/python3.5/dist-packages/zmq/eventloop/zmqstream.py\", line 450, in _handle_events\n",
      "    self._handle_recv()\n",
      "  File \"/usr/local/lib/python3.5/dist-packages/zmq/eventloop/zmqstream.py\", line 480, in _handle_recv\n",
      "    self._run_callback(callback, msg)\n",
      "  File \"/usr/local/lib/python3.5/dist-packages/zmq/eventloop/zmqstream.py\", line 432, in _run_callback\n",
      "    callback(*args, **kwargs)\n",
      "  File \"/usr/local/lib/python3.5/dist-packages/tornado/stack_context.py\", line 276, in null_wrapper\n",
      "    return fn(*args, **kwargs)\n",
      "  File \"/usr/local/lib/python3.5/dist-packages/ipykernel/kernelbase.py\", line 283, in dispatcher\n",
      "    return self.dispatch_shell(stream, msg)\n",
      "  File \"/usr/local/lib/python3.5/dist-packages/ipykernel/kernelbase.py\", line 233, in dispatch_shell\n",
      "    handler(stream, idents, msg)\n",
      "  File \"/usr/local/lib/python3.5/dist-packages/ipykernel/kernelbase.py\", line 399, in execute_request\n",
      "    user_expressions, allow_stdin)\n",
      "  File \"/usr/local/lib/python3.5/dist-packages/ipykernel/ipkernel.py\", line 208, in do_execute\n",
      "    res = shell.run_cell(code, store_history=store_history, silent=silent)\n",
      "  File \"/usr/local/lib/python3.5/dist-packages/ipykernel/zmqshell.py\", line 537, in run_cell\n",
      "    return super(ZMQInteractiveShell, self).run_cell(*args, **kwargs)\n",
      "  File \"/usr/local/lib/python3.5/dist-packages/IPython/core/interactiveshell.py\", line 2728, in run_cell\n",
      "    interactivity=interactivity, compiler=compiler, result=result)\n",
      "  File \"/usr/local/lib/python3.5/dist-packages/IPython/core/interactiveshell.py\", line 2850, in run_ast_nodes\n",
      "    if self.run_code(code, result):\n",
      "  File \"/usr/local/lib/python3.5/dist-packages/IPython/core/interactiveshell.py\", line 2910, in run_code\n",
      "    exec(code_obj, self.user_global_ns, self.user_ns)\n",
      "  File \"<ipython-input-8-a8306a3077d7>\", line 8, in <module>\n",
      "    x_batch, y_batch = sess.run(iterator.get_next())\n",
      "  File \"/home/ubuntu/.local/lib/python3.5/site-packages/tensorflow/python/data/ops/iterator_ops.py\", line 259, in get_next\n",
      "    name=name))\n",
      "  File \"/home/ubuntu/.local/lib/python3.5/site-packages/tensorflow/python/ops/gen_dataset_ops.py\", line 706, in iterator_get_next\n",
      "    output_shapes=output_shapes, name=name)\n",
      "  File \"/home/ubuntu/.local/lib/python3.5/site-packages/tensorflow/python/framework/op_def_library.py\", line 787, in _apply_op_helper\n",
      "    op_def=op_def)\n",
      "  File \"/home/ubuntu/.local/lib/python3.5/site-packages/tensorflow/python/framework/ops.py\", line 2956, in create_op\n",
      "    op_def=op_def)\n",
      "  File \"/home/ubuntu/.local/lib/python3.5/site-packages/tensorflow/python/framework/ops.py\", line 1470, in __init__\n",
      "    self._traceback = self._graph._extract_stack()  # pylint: disable=protected-access\n",
      "\n",
      "OutOfRangeError (see above for traceback): End of sequence\n",
      "\t [[Node: IteratorGetNext_10 = IteratorGetNext[output_shapes=[[2], [1]], output_types=[DT_INT64, DT_INT64], _device=\"/job:localhost/replica:0/task:0/device:CPU:0\"](OneShotIterator)]]\n",
      "\n",
      "final count = 10\n"
     ]
    }
   ],
   "source": [
    "import sys\n",
    "\n",
    "sess.run(tf.global_variables_initializer())\n",
    "\n",
    "count = 0\n",
    "try:\n",
    "    while True:\n",
    "        x_batch, y_batch = sess.run(iterator.get_next())\n",
    "        print('count = {} : y = {}'.format(count, y_batch))\n",
    "        count += 1\n",
    "except Exception as e:\n",
    "    print('\\n', e)\n",
    "    print('final count = {}'.format(count))"
   ]
  },
  {
   "cell_type": "code",
   "execution_count": 6,
   "metadata": {},
   "outputs": [
    {
     "name": "stdout",
     "output_type": "stream",
     "text": [
      "<BatchDataset shapes: ((?, 2), (?, 1)), types: (tf.int64, tf.int64)>\n"
     ]
    }
   ],
   "source": [
    "def pre_func(X, y):\n",
    "    X = tf.multiply(X, 2)\n",
    "    return X, y\n",
    "\n",
    "batch_size = 6\n",
    "dataset = tf.data.Dataset.from_tensor_slices((X, y))\n",
    "dataset = dataset.map(pre_func)\n",
    "dataset = dataset.shuffle(buffer_size=20)\n",
    "dataset = dataset.repeat(3).batch(4)\n",
    "print(dataset)"
   ]
  },
  {
   "cell_type": "code",
   "execution_count": 7,
   "metadata": {},
   "outputs": [
    {
     "name": "stdout",
     "output_type": "stream",
     "text": [
      "<tensorflow.python.data.ops.iterator_ops.Iterator object at 0x7fc27be24f98>\n",
      "count 0, X_batch [[ 8 10]\n",
      " [32 34]\n",
      " [12 14]\n",
      " [28 30]]\n",
      "count 1, X_batch [[16 18]\n",
      " [20 22]\n",
      " [ 0  2]\n",
      " [24 26]]\n",
      "count 2, X_batch [[ 4  6]\n",
      " [36 38]\n",
      " [ 4  6]\n",
      " [28 30]]\n",
      "count 3, X_batch [[32 34]\n",
      " [ 8 10]\n",
      " [24 26]\n",
      " [16 18]]\n",
      "count 4, X_batch [[ 0  2]\n",
      " [20 22]\n",
      " [36 38]\n",
      " [12 14]]\n",
      "count 5, X_batch [[ 4  6]\n",
      " [36 38]\n",
      " [ 8 10]\n",
      " [28 30]]\n",
      "count 6, X_batch [[12 14]\n",
      " [ 0  2]\n",
      " [32 34]\n",
      " [24 26]]\n",
      "count 7, X_batch [[16 18]\n",
      " [20 22]]\n",
      "final count 8\n"
     ]
    }
   ],
   "source": [
    "iterator = dataset.make_one_shot_iterator()\n",
    "print(iterator)\n",
    "\n",
    "sess.run(tf.global_variables_initializer())\n",
    "count = 0\n",
    "try:\n",
    "    while True:\n",
    "        X_batch, y_batch = sess.run(iterator.get_next())\n",
    "        print('count {}, X_batch {}'.format(count, X_batch))\n",
    "        count += 1\n",
    "except Exception as e:\n",
    "    print('final count {}'.format(count))"
   ]
  },
  {
   "cell_type": "code",
   "execution_count": 2,
   "metadata": {},
   "outputs": [
    {
     "name": "stdout",
     "output_type": "stream",
     "text": [
      "<TensorSliceDataset shapes: ((2,), (1,)), types: (tf.int64, tf.int64)>\n"
     ]
    }
   ],
   "source": [
    "X_placeholder = tf.placeholder(dtype=X.dtype, shape=X.shape)\n",
    "y_placeholder = tf.placeholder(dtype=y.dtype, shape=y.shape)\n",
    "\n",
    "batch_size = 6\n",
    "\n",
    "dataset = tf.data.Dataset.from_tensor_slices((X_placeholder, y_placeholder))\n",
    "print(dataset)"
   ]
  },
  {
   "cell_type": "code",
   "execution_count": 8,
   "metadata": {},
   "outputs": [
    {
     "name": "stdout",
     "output_type": "stream",
     "text": [
      "count = 0 : y = [0 1 2 ... 1 2 3]\n",
      "count = 1 : y = [4 5 6 ... 5 6 7]\n",
      "count = 2 : y = [8 9 0 ... 9 0 1]\n",
      "count = 3 : y = [2 3 4 ... 3 4 5]\n",
      "count = 4 : y = [6 7 8 ... 7 8 9]\n",
      "count = 5 : y = [0 1 2 ... 1 2 3]\n",
      "count = 6 : y = [4 5 6 ... 5 6 7]\n",
      "count = 7 : y = [8 9 0 ... 9 0 1]\n",
      "count = 8 : y = [2 3 4 ... 3 4 5]\n",
      "count = 9 : y = [6 7 8 ... 7 8 9]\n"
     ]
    }
   ],
   "source": [
    "def pre_func(X, y):\n",
    "    X = tf.multiply(X, 2)\n",
    "    return X, y\n",
    "\n",
    "dataset = dataset.map(pre_func)\n",
    "dataset = dataset.repeat().batch(4)\n",
    "\n",
    "iterator = dataset.make_initializable_iterator()\n",
    "sess.run(iterator.initializer, feed_dict={X_placeholder: X, y_placeholder: y})\n",
    "\n",
    "count = 0\n",
    "for count in range(10):\n",
    "    X_batch, y_batch = sess.run(iterator.get_next())\n",
    "    print('count = {} : y = {}'.format(count, y_batch.reshape([-1])))"
   ]
  },
  {
   "cell_type": "code",
   "execution_count": null,
   "metadata": {},
   "outputs": [],
   "source": []
  }
 ],
 "metadata": {
  "kernelspec": {
   "display_name": "Python 3",
   "language": "python",
   "name": "python3"
  },
  "language_info": {
   "codemirror_mode": {
    "name": "ipython",
    "version": 3
   },
   "file_extension": ".py",
   "mimetype": "text/x-python",
   "name": "python",
   "nbconvert_exporter": "python",
   "pygments_lexer": "ipython3",
   "version": "3.5.2"
  }
 },
 "nbformat": 4,
 "nbformat_minor": 2
}
