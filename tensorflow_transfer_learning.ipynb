{
 "cells": [
  {
   "cell_type": "code",
   "execution_count": 1,
   "metadata": {},
   "outputs": [
    {
     "name": "stderr",
     "output_type": "stream",
     "text": [
      "/home/ubuntu/.local/lib/python3.5/site-packages/h5py/__init__.py:36: FutureWarning: Conversion of the second argument of issubdtype from `float` to `np.floating` is deprecated. In future, it will be treated as `np.float64 == np.dtype(float).type`.\n",
      "  from ._conv import register_converters as _register_converters\n"
     ]
    },
    {
     "name": "stdout",
     "output_type": "stream",
     "text": [
      "save_path ../ckpt/trans-learning.ckpt-1\n"
     ]
    }
   ],
   "source": [
    "import tensorflow as tf\n",
    "config = tf.ConfigProto()\n",
    "config.gpu_options.allow_growth = True\n",
    "sess = tf.Session(config=config)\n",
    "\n",
    "v1 = tf.Variable([1, 2], name='v1')\n",
    "v2 = tf.Variable(3, name='v2')\n",
    "\n",
    "saver = tf.train.Saver()\n",
    "ckpt_path = '../ckpt/trans-learning.ckpt'\n",
    "\n",
    "init_op = tf.global_variables_initializer()\n",
    "sess.run(init_op)\n",
    "\n",
    "save_path = saver.save(sess, ckpt_path, global_step=1)\n",
    "print('save_path', save_path)"
   ]
  },
  {
   "cell_type": "code",
   "execution_count": 1,
   "metadata": {},
   "outputs": [
    {
     "name": "stderr",
     "output_type": "stream",
     "text": [
      "/home/ubuntu/.local/lib/python3.5/site-packages/h5py/__init__.py:36: FutureWarning: Conversion of the second argument of issubdtype from `float` to `np.floating` is deprecated. In future, it will be treated as `np.float64 == np.dtype(float).type`.\n",
      "  from ._conv import register_converters as _register_converters\n"
     ]
    },
    {
     "name": "stdout",
     "output_type": "stream",
     "text": [
      "INFO:tensorflow:Restoring parameters from ../ckpt/trans-learning.ckpt-1\n",
      "[1 2]\n",
      "save_path ../ckpt/trans-learning.ckpt-2\n"
     ]
    }
   ],
   "source": [
    "import tensorflow as tf\n",
    "config = tf.ConfigProto()\n",
    "config.gpu_options.allow_growth = True\n",
    "sess = tf.Session(config=config)\n",
    "\n",
    "v1 = tf.Variable([2, 3], name='v1')\n",
    "\n",
    "saver = tf.train.Saver()\n",
    "ckpt_path = '../ckpt/trans-learning.ckpt'\n",
    "\n",
    "saver.restore(sess, ckpt_path + '-1')\n",
    "print(sess.run(v1))\n",
    "\n",
    "v3 = tf.Variable(5, name='v3')\n",
    "init_new = tf.variables_initializer([v3])\n",
    "sess.run(init_new)\n",
    "sess.run(v1)\n",
    "sess.run(v3)\n",
    "saver = tf.train.Saver()\n",
    "save_path = saver.save(sess, ckpt_path, global_step=2)\n",
    "print('save_path', save_path)"
   ]
  },
  {
   "cell_type": "code",
   "execution_count": 1,
   "metadata": {},
   "outputs": [
    {
     "name": "stderr",
     "output_type": "stream",
     "text": [
      "/home/ubuntu/.local/lib/python3.5/site-packages/h5py/__init__.py:36: FutureWarning: Conversion of the second argument of issubdtype from `float` to `np.floating` is deprecated. In future, it will be treated as `np.float64 == np.dtype(float).type`.\n",
      "  from ._conv import register_converters as _register_converters\n"
     ]
    },
    {
     "name": "stdout",
     "output_type": "stream",
     "text": [
      "INFO:tensorflow:Restoring parameters from ../ckpt/trans-learning.ckpt-2\n",
      "[1 2]\n",
      "5\n"
     ]
    }
   ],
   "source": [
    "import tensorflow as tf\n",
    "config = tf.ConfigProto()\n",
    "config.gpu_options.allow_growth = True\n",
    "sess = tf.Session(config=config)\n",
    "\n",
    "v1 = tf.Variable([2, 3], name='v1')\n",
    "v3 = tf.Variable(33, name='v3')\n",
    "\n",
    "saver = tf.train.Saver()\n",
    "ckpt_path = '../ckpt/trans-learning.ckpt'\n",
    "\n",
    "saver.restore(sess, ckpt_path + '-2')\n",
    "print(sess.run(v1))\n",
    "print(sess.run(v3))"
   ]
  },
  {
   "cell_type": "code",
   "execution_count": null,
   "metadata": {},
   "outputs": [],
   "source": []
  }
 ],
 "metadata": {
  "kernelspec": {
   "display_name": "Python 3",
   "language": "python",
   "name": "python3"
  },
  "language_info": {
   "codemirror_mode": {
    "name": "ipython",
    "version": 3
   },
   "file_extension": ".py",
   "mimetype": "text/x-python",
   "name": "python",
   "nbconvert_exporter": "python",
   "pygments_lexer": "ipython3",
   "version": "3.5.2"
  }
 },
 "nbformat": 4,
 "nbformat_minor": 2
}
