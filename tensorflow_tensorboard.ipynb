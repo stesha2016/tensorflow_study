{
 "cells": [
  {
   "cell_type": "code",
   "execution_count": 5,
   "metadata": {},
   "outputs": [],
   "source": [
    "import warnings\n",
    "warnings.filterwarnings('ignore')\n",
    "\n",
    "import tensorflow as tf\n",
    "config = tf.ConfigProto()\n",
    "config.gpu_options.allow_growth = True\n",
    "sess = tf.Session(config=config)\n",
    "\n",
    "import os\n",
    "import shutil\n",
    "import numpy as np\n",
    "\n",
    "log_dir = '../summary/graph/'\n",
    "if os.path.exists(log_dir):\n",
    "    shutil.rmtree(log_dir)\n",
    "os.makedirs(log_dir)\n",
    "\n",
    "a = tf.placeholder(dtype=tf.float32, shape=[100, 1], name='a')\n",
    "with tf.name_scope('add_example'):\n",
    "    b = tf.Variable(tf.truncated_normal([100, 1], mean=-0.5, stddev=1.0), name='var_b')\n",
    "    tf.summary.histogram('b_hist', b)\n",
    "    increase_b = tf.assign(b, b + 0.2)\n",
    "    c = tf.add(a, b)\n",
    "    tf.summary.histogram('c_hist', c)\n",
    "    c_mean = tf.reduce_mean(c)\n",
    "    tf.summary.scalar('c_mean', c_mean)\n",
    "merged = tf.summary.merge_all()\n",
    "train_writer = tf.summary.FileWriter(log_dir + 'train', sess.graph)\n",
    "test_writer = tf.summary.FileWriter(log_dir + 'test', sess.graph)\n",
    "\n",
    "sess.run(tf.global_variables_initializer())\n",
    "for step in range(500):\n",
    "    if (step + 1) % 10 == 0:\n",
    "        _a = np.random.randn(100, 1)\n",
    "        summary, _ = sess.run([merged, increase_b], feed_dict={a: _a})\n",
    "        test_writer.add_summary(summary, step)\n",
    "    else:\n",
    "        _a = np.random.randn(100, 1) + 0.2 * step\n",
    "        summary, _ = sess.run([merged, increase_b], feed_dict={a: _a})\n",
    "        train_writer.add_summary(summary, step)\n",
    "train_writer.close()\n",
    "test_writer.close()"
   ]
  }
 ],
 "metadata": {
  "kernelspec": {
   "display_name": "Python 3",
   "language": "python",
   "name": "python3"
  },
  "language_info": {
   "codemirror_mode": {
    "name": "ipython",
    "version": 3
   },
   "file_extension": ".py",
   "mimetype": "text/x-python",
   "name": "python",
   "nbconvert_exporter": "python",
   "pygments_lexer": "ipython3",
   "version": "3.5.2"
  }
 },
 "nbformat": 4,
 "nbformat_minor": 2
}
