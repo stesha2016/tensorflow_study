{
 "cells": [
  {
   "cell_type": "code",
   "execution_count": 1,
   "metadata": {},
   "outputs": [
    {
     "name": "stderr",
     "output_type": "stream",
     "text": [
      "/home/ubuntu/.local/lib/python3.5/site-packages/h5py/__init__.py:36: FutureWarning: Conversion of the second argument of issubdtype from `float` to `np.floating` is deprecated. In future, it will be treated as `np.float64 == np.dtype(float).type`.\n",
      "  from ._conv import register_converters as _register_converters\n"
     ]
    }
   ],
   "source": [
    "#coding:utf-8\n",
    "import tensorflow as tf\n",
    "import numpy as np\n",
    "\n",
    "import warnings\n",
    "warnings.filterwarnings('ignore')\n",
    "\n",
    "config = tf.ConfigProto()\n",
    "config.gpu_options.allow_growth = True\n",
    "sess = tf.Session(config=config)\n",
    "\n",
    "tfrecord_path = '../data/basic.tfrecord'"
   ]
  },
  {
   "cell_type": "code",
   "execution_count": 4,
   "metadata": {},
   "outputs": [],
   "source": [
    "# write\n",
    "# step1\n",
    "writer = tf.python_io.TFRecordWriter(tfrecord_path)\n",
    "\n",
    "# step2\n",
    "for i in range(2):\n",
    "    a = 0.68 + i\n",
    "    b = [10 + i, 11 + i]\n",
    "    c = np.array([[1, 2, 3], [4, 5, 6]]) + i\n",
    "    c = c.astype('uint8')\n",
    "    c_raw = c.tostring()\n",
    "    # step3\n",
    "    example = tf.train.Example(features=tf.train.Features(feature={\n",
    "        'a': tf.train.Feature(float_list=tf.train.FloatList(value=[a])),\n",
    "        'b': tf.train.Feature(int64_list=tf.train.Int64List(value=b)),\n",
    "        'c': tf.train.Feature(bytes_list=tf.train.BytesList(value=[c_raw]))\n",
    "    }))\n",
    "    # step4\n",
    "    serialized = example.SerializeToString(example)\n",
    "    writer.write(serialized)\n",
    "\n",
    "# step5\n",
    "writer.close()"
   ]
  },
  {
   "cell_type": "code",
   "execution_count": 2,
   "metadata": {},
   "outputs": [
    {
     "name": "stdout",
     "output_type": "stream",
     "text": [
      "WARNING:tensorflow:From /home/ubuntu/.local/lib/python3.5/site-packages/tensorflow/python/util/tf_should_use.py:107: initialize_all_variables (from tensorflow.python.ops.variables) is deprecated and will be removed after 2017-03-02.\n",
      "Instructions for updating:\n",
      "Use `tf.global_variables_initializer` instead.\n",
      "a_out Tensor(\"ParseSingleExample/Squeeze_a:0\", shape=(), dtype=float32)\n",
      "b_out Tensor(\"ParseSingleExample/Squeeze_b:0\", shape=(2,), dtype=int64)\n",
      "c_out Tensor(\"Reshape:0\", shape=(2, 3), dtype=uint8)\n"
     ]
    }
   ],
   "source": [
    "# read\n",
    "# step1\n",
    "filename_queue = tf.train.string_input_producer([tfrecord_path], num_epochs=None)\n",
    "# step2\n",
    "reader = tf.TFRecordReader()\n",
    "# step3\n",
    "_, serialized_example = reader.read(filename_queue)\n",
    "# step4\n",
    "features = tf.parse_single_example(serialized_example, features={\n",
    "    'a': tf.FixedLenFeature([], tf.float32),\n",
    "    'b': tf.FixedLenFeature([2], tf.int64),\n",
    "    'c': tf.FixedLenFeature([], tf.string)\n",
    "})\n",
    "# step5\n",
    "a_out = features['a']\n",
    "b_out = features['b']\n",
    "c = features['c']\n",
    "c_out = tf.decode_raw(c, tf.uint8)\n",
    "c_out = tf.reshape(c_out, [2, 3])\n",
    "\n",
    "init = tf.initialize_all_variables()\n",
    "sess.run(init)\n",
    "print('a_out', a_out)\n",
    "print('b_out', b_out)\n",
    "print('c_out', c_out)"
   ]
  },
  {
   "cell_type": "code",
   "execution_count": 4,
   "metadata": {},
   "outputs": [
    {
     "name": "stdout",
     "output_type": "stream",
     "text": [
      "a_val [0.68 0.68 1.68]\n",
      "b_val [[10 11]\n",
      " [10 11]\n",
      " [11 12]]\n",
      "c_val [[[1 2 3]\n",
      "  [4 5 6]]\n",
      "\n",
      " [[1 2 3]\n",
      "  [4 5 6]]\n",
      "\n",
      " [[2 3 4]\n",
      "  [5 6 7]]]\n"
     ]
    }
   ],
   "source": [
    "# shuffle batch\n",
    "a_batch, b_batch, c_batch = tf.train.shuffle_batch([a_out, b_out, c_out], batch_size=3, capacity=200,\n",
    "                                                   min_after_dequeue=100, num_threads=2)\n",
    "\n",
    "coord = tf.train.Coordinator()\n",
    "tf.train.start_queue_runners(sess=sess, coord=coord)\n",
    "a_val, b_val, c_val = sess.run([a_batch, b_batch, c_batch])\n",
    "print('a_val', a_val)\n",
    "print('b_val', b_val)\n",
    "print('c_val', c_val)"
   ]
  },
  {
   "cell_type": "code",
   "execution_count": null,
   "metadata": {},
   "outputs": [],
   "source": []
  }
 ],
 "metadata": {
  "kernelspec": {
   "display_name": "Python 3",
   "language": "python",
   "name": "python3"
  },
  "language_info": {
   "codemirror_mode": {
    "name": "ipython",
    "version": 3
   },
   "file_extension": ".py",
   "mimetype": "text/x-python",
   "name": "python",
   "nbconvert_exporter": "python",
   "pygments_lexer": "ipython3",
   "version": "3.5.2"
  }
 },
 "nbformat": 4,
 "nbformat_minor": 2
}
