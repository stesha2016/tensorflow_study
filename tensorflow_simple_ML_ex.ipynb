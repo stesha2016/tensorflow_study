{
 "cells": [
  {
   "cell_type": "code",
   "execution_count": 1,
   "metadata": {},
   "outputs": [
    {
     "name": "stderr",
     "output_type": "stream",
     "text": [
      "/home/ubuntu/.local/lib/python3.5/site-packages/h5py/__init__.py:36: FutureWarning: Conversion of the second argument of issubdtype from `float` to `np.floating` is deprecated. In future, it will be treated as `np.float64 == np.dtype(float).type`.\n",
      "  from ._conv import register_converters as _register_converters\n"
     ]
    }
   ],
   "source": [
    "import tensorflow as tf\n",
    "import numpy as np"
   ]
  },
  {
   "cell_type": "code",
   "execution_count": 2,
   "metadata": {},
   "outputs": [],
   "source": [
    "config = tf.ConfigProto()\n",
    "config.gpu_options.allow_growth = True\n",
    "sess = tf.Session(config=config)"
   ]
  },
  {
   "cell_type": "code",
   "execution_count": 5,
   "metadata": {},
   "outputs": [
    {
     "name": "stdout",
     "output_type": "stream",
     "text": [
      "x shape (100, 1)\n",
      "y shape (100, 1)\n"
     ]
    }
   ],
   "source": [
    "X = np.float32(np.random.rand(100))\n",
    "X = np.sort(X)\n",
    "y = np.dot(0.200, X**2) + 0.300 + np.random.randn(100) * 0.01\n",
    "X = X.reshape([-1, 1])\n",
    "y = y.reshape([-1, 1])\n",
    "print('x shape', X.shape)\n",
    "print('y shape', y.shape)"
   ]
  },
  {
   "cell_type": "code",
   "execution_count": 8,
   "metadata": {},
   "outputs": [
    {
     "name": "stdout",
     "output_type": "stream",
     "text": [
      "0 [[-0.30528986]] [0.54600775]\n",
      "20 [[0.09967829]] [0.33574608]\n",
      "40 [[0.17881884]] [0.30757466]\n",
      "60 [[0.19352628]] [0.30233932]\n",
      "80 [[0.19625954]] [0.30136636]\n",
      "100 [[0.19676746]] [0.30118555]\n",
      "120 [[0.19686186]] [0.30115196]\n",
      "140 [[0.19687943]] [0.3011457]\n",
      "160 [[0.19688268]] [0.30114454]\n",
      "180 [[0.19688329]] [0.30114433]\n",
      "200 [[0.1968833]] [0.30114433]\n"
     ]
    }
   ],
   "source": [
    "b = tf.Variable(tf.zeros([1]))\n",
    "W = tf.Variable(tf.random_uniform([1, 1], -1.0, 1.0))\n",
    "y_pre = tf.matmul(X**2, W) + b\n",
    "\n",
    "loss = tf.reduce_mean(tf.square(y_pre - y))\n",
    "optimizer = tf.train.GradientDescentOptimizer(0.5)\n",
    "train = optimizer.minimize(loss)\n",
    "\n",
    "init = tf.global_variables_initializer()\n",
    "sess.run(init)\n",
    "\n",
    "for step in range(201):\n",
    "    sess.run(train)\n",
    "    if step % 20 == 0:\n",
    "        print(step, sess.run(W), sess.run(b))"
   ]
  },
  {
   "cell_type": "code",
   "execution_count": 10,
   "metadata": {},
   "outputs": [
    {
     "name": "stdout",
     "output_type": "stream",
     "text": [
      "y_pre: [0.3011466  0.30116013 0.3011725  0.30119306 0.30134597 0.30137488\n",
      " 0.3018273  0.3018802  0.30210963 0.30211523 0.30224636 0.30251104\n",
      " 0.30258492 0.302782   0.30291244 0.3033097  0.30431002 0.30457878\n",
      " 0.30587393 0.30589005]\n",
      "y_true [0.28868128 0.28924211 0.29234606 0.30200095 0.30633895 0.30629162\n",
      " 0.30741669 0.30082186 0.29715575 0.31249286 0.30272184 0.29744265\n",
      " 0.2971577  0.30515049 0.30032348 0.30517101 0.29936137 0.31332653\n",
      " 0.3032727  0.28374782]\n"
     ]
    }
   ],
   "source": [
    "_y_pre = sess.run(y_pre)\n",
    "print('y_pre:', _y_pre.reshape(-1)[:20])\n",
    "print('y_true', y.reshape(-1)[:20])"
   ]
  },
  {
   "cell_type": "code",
   "execution_count": 13,
   "metadata": {},
   "outputs": [
    {
     "data": {
      "image/png": "[encoded data removed]",
      "text/plain": [
       "<Figure size 432x288 with 1 Axes>"
      ]
     },
     "metadata": {},
     "output_type": "display_data"
    }
   ],
   "source": [
    "import matplotlib.pyplot as plt\n",
    "plt.plot(X, y, 'b.')\n",
    "plt.plot(X, _y_pre, 'r-')\n",
    "plt.show()"
   ]
  },
  {
   "cell_type": "code",
   "execution_count": null,
   "metadata": {},
   "outputs": [],
   "source": []
  }
 ],
 "metadata": {
  "kernelspec": {
   "display_name": "Python 3",
   "language": "python",
   "name": "python3"
  },
  "language_info": {
   "codemirror_mode": {
    "name": "ipython",
    "version": 3
   },
   "file_extension": ".py",
   "mimetype": "text/x-python",
   "name": "python",
   "nbconvert_exporter": "python",
   "pygments_lexer": "ipython3",
   "version": "3.5.2"
  }
 },
 "nbformat": 4,
 "nbformat_minor": 2
}
