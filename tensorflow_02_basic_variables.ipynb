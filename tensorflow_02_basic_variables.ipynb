{
 "cells": [
  {
   "cell_type": "code",
   "execution_count": 1,
   "metadata": {},
   "outputs": [],
   "source": [
    "import warnings\n",
    "warnings.filterwarnings('ignore')\n",
    "\n",
    "import tensorflow as tf\n",
    "config = tf.ConfigProto()\n",
    "config.gpu_options.allow_growth = True\n",
    "sess = tf.Session(config=config)"
   ]
  },
  {
   "cell_type": "code",
   "execution_count": 2,
   "metadata": {},
   "outputs": [
    {
     "name": "stdout",
     "output_type": "stream",
     "text": [
      "v1 <tf.Variable 'v:0' shape=() dtype=float32_ref>\n",
      "v2 <tf.Variable 'v_1:0' shape=(1,) dtype=float32_ref>\n",
      "v3 <tf.Variable 'v_2:0' shape=(2,) dtype=float32_ref>\n"
     ]
    }
   ],
   "source": [
    "v1 = tf.Variable(0.1, dtype=tf.float32, name='v')\n",
    "v2 = tf.Variable([0.1], dtype=tf.float32, name='v')\n",
    "v3 = tf.Variable([0.1, 0.2], dtype=tf.float32, name='v')\n",
    "print('v1', v1)\n",
    "print('v2', v2)\n",
    "print('v3', v3)"
   ]
  },
  {
   "cell_type": "code",
   "execution_count": 3,
   "metadata": {},
   "outputs": [
    {
     "name": "stdout",
     "output_type": "stream",
     "text": [
      "gv1 <tf.Variable 'gv:0' shape=(2, 3) dtype=float32_ref>\n"
     ]
    }
   ],
   "source": [
    "gv1 = tf.get_variable(name='gv', shape=(2, 3), initializer=tf.truncated_normal_initializer())\n",
    "#gv2 = tf.get_variable(name='gv', shape=(3, 4), initializer=tf.truncated_normal_initializer())\n",
    "print('gv1', gv1)\n",
    "#print('gv2', gv2)"
   ]
  },
  {
   "cell_type": "code",
   "execution_count": 4,
   "metadata": {},
   "outputs": [
    {
     "name": "stdout",
     "output_type": "stream",
     "text": [
      "var1 <tf.Variable 'var:0' shape=(1,) dtype=float32_ref>\n",
      "var2 <tf.Variable 'var_1:0' shape=(3, 4) dtype=float32_ref>\n",
      "var3 <tf.Variable 'var_2:0' shape=(2,) dtype=float32_ref>\n"
     ]
    }
   ],
   "source": [
    "var1 = tf.Variable(initial_value=[1.0], name='var', trainable=False)\n",
    "var2 = tf.get_variable(name='var', shape=(3, 4))\n",
    "var3 = tf.Variable(initial_value=[1.0, 2.0], name='var')\n",
    "print('var1', var1)\n",
    "print('var2', var2)\n",
    "print('var3', var3)"
   ]
  },
  {
   "cell_type": "code",
   "execution_count": 5,
   "metadata": {},
   "outputs": [
    {
     "name": "stdout",
     "output_type": "stream",
     "text": [
      "ph1 Tensor(\"ph:0\", shape=(1, 3), dtype=float32)\n",
      "ph2 Tensor(\"ph_1:0\", shape=(2, 3), dtype=float32)\n"
     ]
    }
   ],
   "source": [
    "ph1 = tf.placeholder(name='ph', dtype=tf.float32, shape=(1, 3))\n",
    "ph2 = tf.placeholder(name='ph', dtype=tf.float32, shape=(2, 3))\n",
    "print('ph1', ph1)\n",
    "print('ph2', ph2)"
   ]
  },
  {
   "cell_type": "code",
   "execution_count": 6,
   "metadata": {},
   "outputs": [
    {
     "name": "stdout",
     "output_type": "stream",
     "text": [
      "0 <tf.Variable 'v:0' shape=() dtype=float32_ref>\n",
      "1 <tf.Variable 'v_1:0' shape=(1,) dtype=float32_ref>\n",
      "2 <tf.Variable 'v_2:0' shape=(2,) dtype=float32_ref>\n",
      "3 <tf.Variable 'gv:0' shape=(2, 3) dtype=float32_ref>\n",
      "4 <tf.Variable 'var:0' shape=(1,) dtype=float32_ref>\n",
      "5 <tf.Variable 'var_1:0' shape=(3, 4) dtype=float32_ref>\n",
      "6 <tf.Variable 'var_2:0' shape=(2,) dtype=float32_ref>\n"
     ]
    }
   ],
   "source": [
    "all_vars = tf.global_variables()\n",
    "for i in range(len(all_vars)):\n",
    "    print(i, all_vars[i])"
   ]
  },
  {
   "cell_type": "code",
   "execution_count": 7,
   "metadata": {},
   "outputs": [
    {
     "name": "stdout",
     "output_type": "stream",
     "text": [
      "0 <tf.Variable 'v:0' shape=() dtype=float32_ref>\n",
      "1 <tf.Variable 'v_1:0' shape=(1,) dtype=float32_ref>\n",
      "2 <tf.Variable 'v_2:0' shape=(2,) dtype=float32_ref>\n",
      "3 <tf.Variable 'gv:0' shape=(2, 3) dtype=float32_ref>\n",
      "4 <tf.Variable 'var_1:0' shape=(3, 4) dtype=float32_ref>\n",
      "5 <tf.Variable 'var_2:0' shape=(2,) dtype=float32_ref>\n"
     ]
    }
   ],
   "source": [
    "all_trainable_variables = tf.trainable_variables()\n",
    "for i in range(len(all_trainable_variables)):\n",
    "    print(i, all_trainable_variables[i])"
   ]
  },
  {
   "cell_type": "code",
   "execution_count": null,
   "metadata": {},
   "outputs": [],
   "source": []
  }
 ],
 "metadata": {
  "kernelspec": {
   "display_name": "Python 3",
   "language": "python",
   "name": "python3"
  },
  "language_info": {
   "codemirror_mode": {
    "name": "ipython",
    "version": 3
   },
   "file_extension": ".py",
   "mimetype": "text/x-python",
   "name": "python",
   "nbconvert_exporter": "python",
   "pygments_lexer": "ipython3",
   "version": "3.5.2"
  }
 },
 "nbformat": 4,
 "nbformat_minor": 2
}
