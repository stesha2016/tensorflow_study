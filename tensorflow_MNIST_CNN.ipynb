{
 "cells": [
  {
   "cell_type": "code",
   "execution_count": 1,
   "metadata": {},
   "outputs": [],
   "source": [
    "import warnings\n",
    "warnings.filterwarnings('ignore')\n",
    "\n",
    "import tensorflow as tf\n",
    "config = tf.ConfigProto()\n",
    "config.gpu_options.allow_growth = True\n",
    "sess = tf.Session(config=config)\n",
    "\n",
    "import numpy as np"
   ]
  },
  {
   "cell_type": "code",
   "execution_count": 2,
   "metadata": {},
   "outputs": [
    {
     "name": "stdout",
     "output_type": "stream",
     "text": [
      "Extracting ../data/MNIST_data/train-images-idx3-ubyte.gz\n",
      "Extracting ../data/MNIST_data/train-labels-idx1-ubyte.gz\n",
      "Extracting ../data/MNIST_data/t10k-images-idx3-ubyte.gz\n",
      "Extracting ../data/MNIST_data/t10k-labels-idx1-ubyte.gz\n",
      "(55000, 10)\n",
      "(55000, 784)\n",
      "(10000, 10)\n",
      "(10000, 784)\n"
     ]
    }
   ],
   "source": [
    "# step 1, load data\n",
    "from tensorflow.examples.tutorials.mnist import input_data\n",
    "mnist = input_data.read_data_sets('../data/MNIST_data', one_hot=True)\n",
    "print(mnist.train.labels.shape)\n",
    "print(mnist.train.images.shape)\n",
    "print(mnist.test.labels.shape)\n",
    "print(mnist.test.images.shape)"
   ]
  },
  {
   "cell_type": "code",
   "execution_count": 3,
   "metadata": {},
   "outputs": [],
   "source": [
    "def weights_variable(shape):\n",
    "    return tf.Variable(tf.truncated_normal(shape, stddev=0.1))\n",
    "\n",
    "def bias_variable(shape):\n",
    "    return tf.Variable(tf.constant(0.1, shape=shape))\n",
    "    \n",
    "def conv2d(x, W):\n",
    "    return tf.nn.conv2d(x, W, strides=[1, 1, 1, 1], padding='SAME')\n",
    "    \n",
    "def max_pool_2x2(x):\n",
    "    return tf.nn.max_pool(x, ksize=[1, 2, 2, 1], strides=[1, 2, 2, 1], padding='SAME')\n",
    "\n",
    "X_input = tf.placeholder(dtype=tf.float32, shape=[None, 784])\n",
    "y_input = tf.placeholder(dtype=tf.float32, shape=[None, 10])\n",
    "X = tf.reshape(X_input, shape=[-1, 28, 28, 1])\n",
    "\n",
    "# First layer\n",
    "W_conv1 = weights_variable([5, 5, 1, 32])\n",
    "b_conv1 = bias_variable([32])\n",
    "h_conv1 = tf.nn.relu(conv2d(X, W_conv1) + b_conv1)\n",
    "h_pool1 = max_pool_2x2(h_conv1)\n",
    "\n",
    "# Second layer\n",
    "W_conv2 = weights_variable([5, 5, 32, 64])\n",
    "b_conv2 = bias_variable([64])\n",
    "h_conv2 = tf.nn.relu(conv2d(h_pool1, W_conv2) + b_conv2)\n",
    "h_pool2 = max_pool_2x2(h_conv2)\n",
    "\n",
    "# flatten\n",
    "h_pool2_flatten = tf.reshape(h_pool2, [-1, 7*7*64])\n",
    "\n",
    "# fc1\n",
    "W_fc1 = weights_variable([7*7*64, 1024])\n",
    "b_fc1 = bias_variable([1024])\n",
    "h_fc1 = tf.nn.relu(tf.matmul(h_pool2_flatten, W_fc1) + b_fc1)\n",
    "\n",
    "keep_prob = tf.placeholder(tf.float32)\n",
    "h_fc1_dropout = tf.nn.dropout(h_fc1, keep_prob)\n",
    "\n",
    "# fc2\n",
    "W_fc2 = weights_variable([1024, 10])\n",
    "b_fc2 = bias_variable([10])\n",
    "y_pred = tf.nn.softmax(tf.matmul(h_fc1_dropout, W_fc2) + b_fc2)\n"
   ]
  },
  {
   "cell_type": "code",
   "execution_count": 8,
   "metadata": {},
   "outputs": [
    {
     "name": "stdout",
     "output_type": "stream",
     "text": [
      "step 499, train cost 24.202824 train acc 0.920000 test cost 15.703499 test acc 0.952100 pass 0.22132015228271484s\n",
      "step 999, train cost 20.862913 train acc 0.950000 test cost 9.806249 test acc 0.970800 pass 0.22216153144836426s\n",
      "step 1499, train cost 17.320311 train acc 0.950000 test cost 7.253902 test acc 0.977000 pass 0.19803833961486816s\n",
      "step 1999, train cost 11.316448 train acc 0.940000 test cost 6.057700 test acc 0.981000 pass 0.21344375610351562s\n",
      "step 2499, train cost 10.194584 train acc 0.980000 test cost 5.150349 test acc 0.982700 pass 0.20212388038635254s\n",
      "step 2999, train cost 6.524717 train acc 0.970000 test cost 4.541613 test acc 0.984800 pass 0.21729278564453125s\n",
      "step 3499, train cost 8.908295 train acc 0.970000 test cost 4.218589 test acc 0.985400 pass 0.22370290756225586s\n",
      "step 3999, train cost 4.473552 train acc 0.980000 test cost 3.915411 test acc 0.986900 pass 0.2131338119506836s\n",
      "step 4499, train cost 2.538017 train acc 0.980000 test cost 3.606993 test acc 0.987900 pass 0.2127079963684082s\n",
      "step 4999, train cost 3.731204 train acc 0.980000 test cost 3.175420 test acc 0.989300 pass 0.21100473403930664s\n"
     ]
    }
   ],
   "source": [
    "import time\n",
    "\n",
    "cross_entropy = -tf.reduce_sum(y_input*tf.log(y_pred))\n",
    "train_step = tf.train.AdamOptimizer(1e-4).minimize(cross_entropy)\n",
    "\n",
    "cross_prediction = tf.equal(tf.argmax(y_pred, 1), tf.argmax(y_input, 1))\n",
    "accuracy = tf.reduce_mean(tf.cast(cross_prediction, tf.float32))\n",
    "sess.run(tf.global_variables_initializer())\n",
    "\n",
    "for step in range(5000):\n",
    "    time0 = time.time()\n",
    "    X_batch, y_batch = mnist.train.next_batch(batch_size=100)\n",
    "    cost, acc, _ = sess.run([cross_entropy, accuracy, train_step], feed_dict={X_input: X_batch, y_input: y_batch, keep_prob: 0.5})\n",
    "    if (step + 1) % 500 == 0:\n",
    "        test_acc = 0.0\n",
    "        test_cost = 0.0\n",
    "        N = 100\n",
    "        for i in range(N):\n",
    "            X_test_batch, y_test_batch = mnist.test.next_batch(batch_size=100)\n",
    "            _cost, _acc = sess.run([cross_entropy, accuracy], feed_dict={X_input: X_test_batch, y_input: y_test_batch, keep_prob: 1.0})\n",
    "            test_cost += _cost\n",
    "            test_acc += _acc\n",
    "        print('step {}, train cost {:.6f} train acc {:.6f} test cost {:.6f} test acc {:.6f} pass {}s'.format(step, cost, acc, test_cost/N, test_acc/N, time.time() - time0))"
   ]
  },
  {
   "cell_type": "code",
   "execution_count": 13,
   "metadata": {},
   "outputs": [
    {
     "name": "stdout",
     "output_type": "stream",
     "text": [
      "lable1 [0. 0. 0. 1. 0. 0. 0. 0. 0. 0.]\n",
      "img1.shape (784,)\n"
     ]
    }
   ],
   "source": [
    "img1 = mnist.train.images[0]\n",
    "label1 = mnist.train.labels[0]\n",
    "print('lable1', label1)\n",
    "print('img1.shape', img1.shape)\n",
    "img1 = img1.reshape([28, 28])"
   ]
  },
  {
   "cell_type": "code",
   "execution_count": 14,
   "metadata": {},
   "outputs": [
    {
     "data": {
      "image/png": "[encoded data removed]",
      "text/plain": [
       "<Figure size 432x288 with 1 Axes>"
      ]
     },
     "metadata": {},
     "output_type": "display_data"
    }
   ],
   "source": [
    "import matplotlib.pyplot as plt\n",
    "\n",
    "plt.imshow(img1)\n",
    "plt.axis('off')\n",
    "plt.show()"
   ]
  },
  {
   "cell_type": "code",
   "execution_count": 15,
   "metadata": {},
   "outputs": [
    {
     "data": {
      "image/png": "[encoded data removed]",
      "text/plain": [
       "<Figure size 432x288 with 1 Axes>"
      ]
     },
     "metadata": {},
     "output_type": "display_data"
    }
   ],
   "source": [
    "plt.imshow(img1, cmap='gray')\n",
    "plt.show()"
   ]
  },
  {
   "cell_type": "code",
   "execution_count": 19,
   "metadata": {},
   "outputs": [
    {
     "name": "stdout",
     "output_type": "stream",
     "text": [
      "(1, 28, 28, 32)\n"
     ]
    }
   ],
   "source": [
    "X_img = img1.reshape([-1, 784])\n",
    "y_label = label1.reshape([-1, 10])\n",
    "result = sess.run([h_conv1], feed_dict={X_input: X_img})[0]\n",
    "print(result.shape)"
   ]
  },
  {
   "cell_type": "code",
   "execution_count": 24,
   "metadata": {},
   "outputs": [
    {
     "data": {
      "image/png": "[encoded data removed]",
      "text/plain": [
       "<Figure size 432x288 with 32 Axes>"
      ]
     },
     "metadata": {},
     "output_type": "display_data"
    }
   ],
   "source": [
    "for i in range(32):\n",
    "    show_img = result[:,:,:,i]\n",
    "    show_img = show_img.reshape([28, 28])\n",
    "    plt.subplot(4, 8, i + 1)\n",
    "    plt.imshow(show_img, cmap='gray')\n",
    "    plt.axis('off')\n",
    "plt.show()"
   ]
  },
  {
   "cell_type": "code",
   "execution_count": null,
   "metadata": {},
   "outputs": [],
   "source": []
  }
 ],
 "metadata": {
  "kernelspec": {
   "display_name": "Python 3",
   "language": "python",
   "name": "python3"
  },
  "language_info": {
   "codemirror_mode": {
    "name": "ipython",
    "version": 3
   },
   "file_extension": ".py",
   "mimetype": "text/x-python",
   "name": "python",
   "nbconvert_exporter": "python",
   "pygments_lexer": "ipython3",
   "version": "3.5.2"
  }
 },
 "nbformat": 4,
 "nbformat_minor": 2
}
