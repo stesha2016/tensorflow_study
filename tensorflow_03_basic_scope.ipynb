{
 "cells": [
  {
   "cell_type": "code",
   "execution_count": null,
   "metadata": {},
   "outputs": [],
   "source": [
    "import warnings\n",
    "warnings.filterwarnings('ignore')\n",
    "\n",
    "import tensorflow as tf\n",
    "config = tf.ConfigProto()\n",
    "config.gpu_options.allow_growth = False\n",
    "sess = tf.Session(config=config)"
   ]
  },
  {
   "cell_type": "code",
   "execution_count": null,
   "metadata": {},
   "outputs": [],
   "source": [
    "with tf.name_scope('ns1') as ns:\n",
    "    ns_v1 = tf.Variable(initial_value=[1.0], name='v')\n",
    "    ns_gv1 = tf.get_variable(name='v', shape=(2, 3))\n",
    "    ns_v2 = tf.Variable(initial_value=[1.0], name='v')\n",
    "    \n",
    "print('ns_v1', ns_v1)\n",
    "print('ns_gv1', ns_gv1)\n",
    "print('ns_g2', ns_v2)"
   ]
  },
  {
   "cell_type": "code",
   "execution_count": null,
   "metadata": {},
   "outputs": [],
   "source": [
    "with tf.variable_scope('vs1') as vs:\n",
    "    vs_v1 = tf.Variable(initial_value=[1.0], name='v')\n",
    "    vs_v2 = tf.get_variable(name='v', shape=(2, 3))\n",
    "print('vs_v1', vs_v1)\n",
    "print('vs_v2', vs_v2)"
   ]
  },
  {
   "cell_type": "code",
   "execution_count": null,
   "metadata": {},
   "outputs": [],
   "source": [
    "with tf.variable_scope('vs1', reuse=True) as vs:\n",
    "    vs_v3 = tf.get_variable(name='v', shape=(2, 3))\n",
    "print('vs_v3', vs_v3)\n",
    "print('vs_v2 is vs_v3', vs_v2 is vs_v3)"
   ]
  },
  {
   "cell_type": "code",
   "execution_count": null,
   "metadata": {},
   "outputs": [],
   "source": [
    "def fc(X, outsize):\n",
    "    insize = X.shape[1]\n",
    "    W = tf.get_variable(name='w', shape=[insize, outsize], initializer=tf.truncated_normal_initializer())\n",
    "    b = tf.get_variable(name='b', shape=[outsize], initializer=tf.zeros_initializer())\n",
    "    h = tf.nn.relu(tf.nn.xw_plus_b(X, W, b), name='h')"
   ]
  },
  {
   "cell_type": "code",
   "execution_count": null,
   "metadata": {},
   "outputs": [],
   "source": [
    "batch_size = 128\n",
    "feature_size = 50\n",
    "fc1_size = 64\n",
    "fc2_size = 32\n",
    "X_input = tf.placeholder(dtype=tf.float32, shape=[batch_size, feature_size], name='x_input')\n",
    "print(X_input.shape)\n",
    "\n",
    "with tf.variable_scope('fc1') as fc1:\n",
    "    fc_h1 = fc(X_input, fc1_size)\n",
    "    \n",
    "with tf.variable_scope('fc2') as fc2:\n",
    "    fc_h2 = fc(fc_h1, fc2_size)\n",
    "\n",
    "all_variables = tf.global_variables()\n",
    "for i in range(len(all_variables)):\n",
    "    print(i, all_variables[i])"
   ]
  },
  {
   "cell_type": "code",
   "execution_count": null,
   "metadata": {},
   "outputs": [],
   "source": []
  }
 ],
 "metadata": {
  "kernelspec": {
   "display_name": "Python 3",
   "language": "python",
   "name": "python3"
  },
  "language_info": {
   "codemirror_mode": {
    "name": "ipython",
    "version": 3
   },
   "file_extension": ".py",
   "mimetype": "text/x-python",
   "name": "python",
   "nbconvert_exporter": "python",
   "pygments_lexer": "ipython3",
   "version": "3.5.2"
  }
 },
 "nbformat": 4,
 "nbformat_minor": 2
}
